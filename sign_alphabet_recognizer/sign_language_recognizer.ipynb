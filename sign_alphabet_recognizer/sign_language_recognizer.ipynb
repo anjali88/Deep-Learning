{
 "cells": [
  {
   "cell_type": "code",
   "execution_count": 40,
   "metadata": {
    "collapsed": true
   },
   "outputs": [],
   "source": [
    "import os.path\n",
    "import re\n",
    "import hashlib\n",
    "import tensorflow as tf\n",
    "from tensorflow import gfile\n",
    "from tensorflow import compat\n",
    "from keras.models import Sequential\n",
    "from keras.layers import Conv2D, MaxPooling2D\n",
    "from keras.layers import Activation, Dropout, Flatten, Dense\n",
    "from keras.preprocessing.image import ImageDataGenerator\n",
    "from keras import backend as K\n",
    "import cv2\n",
    "import numpy as np"
   ]
  },
  {
   "cell_type": "code",
   "execution_count": 2,
   "metadata": {
    "collapsed": true
   },
   "outputs": [],
   "source": [
    "\"\"\"\n",
    "I took this function from 'https://github.com/loicmarie/sign-language-alphabet-recognizer', check it out!\n",
    "I also took the dataset, although I splitted it in a different way.\n",
    "\"\"\"\n",
    "\n",
    "MAX_NUM_IMAGES_PER_CLASS = 2 ** 27 - 1  # ~134M\n",
    "\n",
    "def create_image_lists(image_dir, testing_percentage, validation_percentage):\n",
    "    \"\"\"\n",
    "    Brief:\n",
    "        Builds a list of training images from the file system.\n",
    "        Analyzes the sub folders in the image directory, splits them into stable\n",
    "        training, testing, and validation sets, and returns a data structure\n",
    "        describing the lists of images for each label and their paths.\n",
    "    Args:\n",
    "        image_dir: String path to a folder containing subfolders of images.\n",
    "        testing_percentage: Integer percentage of the images to reserve for tests.\n",
    "        validation_percentage: Integer percentage of images reserved for validation.\n",
    "    Returns:\n",
    "        A dictionary containing an entry for each label subfolder, with images split\n",
    "        into training, testing, and validation sets within each label.\n",
    "    \"\"\"\n",
    "    if not gfile.Exists(image_dir):\n",
    "        print(\"Image directory '\" + image_dir + \"' not found.\")\n",
    "        return None\n",
    "    result = {}\n",
    "    sub_dirs = [x[0] for x in gfile.Walk(image_dir)]\n",
    "    # The root directory comes first, so skip it.\n",
    "    is_root_dir = True\n",
    "    for sub_dir in sub_dirs:\n",
    "        if is_root_dir:\n",
    "            is_root_dir = False\n",
    "            continue\n",
    "        extensions = ['jpg', 'jpeg', 'JPG', 'JPEG']\n",
    "        file_list = []\n",
    "        dir_name = os.path.basename(sub_dir)\n",
    "        if dir_name == image_dir:\n",
    "            continue\n",
    "        print(\"Looking for images in '\" + dir_name + \"'\")\n",
    "        for extension in extensions:\n",
    "            file_glob = os.path.join(image_dir, dir_name, '*.' + extension)\n",
    "            file_list.extend(gfile.Glob(file_glob))\n",
    "        if not file_list:\n",
    "            print('No files found')\n",
    "            continue\n",
    "        if len(file_list) < 20:\n",
    "            print('WARNING: Folder has less than 20 images, which may cause issues.')\n",
    "        elif len(file_list) > MAX_NUM_IMAGES_PER_CLASS:\n",
    "            print('WARNING: Folder {} has more than {} images. Some images will '\n",
    "                  'never be selected.'.format(dir_name, MAX_NUM_IMAGES_PER_CLASS))\n",
    "        label_name = re.sub(r'[^a-z0-9]+', ' ', dir_name.lower())\n",
    "        training_images = []\n",
    "        testing_images = []\n",
    "        validation_images = []\n",
    "        for file_name in file_list:\n",
    "            base_name = os.path.basename(file_name)\n",
    "            # We want to ignore anything after '_nohash_' in the file name when\n",
    "            # deciding which set to put an image in, the data set creator has a way of\n",
    "            # grouping photos that are close variations of each other. For example\n",
    "            # this is used in the plant disease data set to group multiple pictures of\n",
    "            # the same leaf.\n",
    "            hash_name = re.sub(r'_nohash_.*$', '', file_name)\n",
    "            # This looks a bit magical, but we need to decide whether this file should\n",
    "            # go into the training, testing, or validation sets, and we want to keep\n",
    "            # existing files in the same set even if more files are subsequently\n",
    "            # added.\n",
    "            # To do that, we need a stable way of deciding based on just the file name\n",
    "            # itself, so we do a hash of that and then use that to generate a\n",
    "            # probability value that we use to assign it.\n",
    "            hash_name_hashed = hashlib.sha1(compat.as_bytes(hash_name)).hexdigest()\n",
    "            percentage_hash = ((int(hash_name_hashed, 16) %\n",
    "                                (MAX_NUM_IMAGES_PER_CLASS + 1)) *\n",
    "                             (100.0 / MAX_NUM_IMAGES_PER_CLASS))\n",
    "            if percentage_hash < validation_percentage:\n",
    "                validation_images.append(base_name)\n",
    "            elif percentage_hash < (testing_percentage + validation_percentage):\n",
    "                testing_images.append(base_name)\n",
    "            else:\n",
    "                training_images.append(base_name)\n",
    "        result[label_name] = {\n",
    "            'dir': dir_name,\n",
    "            'training': training_images,\n",
    "            'testing': testing_images,\n",
    "            'validation': validation_images,\n",
    "            }\n",
    "    return result"
   ]
  },
  {
   "cell_type": "code",
   "execution_count": 3,
   "metadata": {},
   "outputs": [
    {
     "name": "stdout",
     "output_type": "stream",
     "text": [
      "Looking for images in 'A'\n",
      "Looking for images in 'B'\n",
      "Looking for images in 'C'\n",
      "Looking for images in 'D'\n",
      "Looking for images in 'del'\n",
      "Looking for images in 'E'\n",
      "Looking for images in 'F'\n",
      "Looking for images in 'G'\n",
      "Looking for images in 'H'\n",
      "Looking for images in 'I'\n",
      "Looking for images in 'J'\n",
      "Looking for images in 'K'\n",
      "Looking for images in 'L'\n",
      "Looking for images in 'M'\n",
      "Looking for images in 'N'\n",
      "Looking for images in 'nothing'\n",
      "Looking for images in 'O'\n",
      "Looking for images in 'P'\n",
      "Looking for images in 'Q'\n",
      "Looking for images in 'R'\n",
      "Looking for images in 'S'\n",
      "Looking for images in 'space'\n",
      "Looking for images in 'T'\n",
      "Looking for images in 'U'\n",
      "Looking for images in 'V'\n",
      "Looking for images in 'W'\n",
      "Looking for images in 'X'\n",
      "Looking for images in 'Y'\n",
      "Looking for images in 'Z'\n"
     ]
    }
   ],
   "source": [
    "result = create_image_lists(\"dataset\", 20, 20)"
   ]
  },
  {
   "cell_type": "code",
   "execution_count": null,
   "metadata": {},
   "outputs": [],
   "source": [
    "# Let's check how we can access the data\n",
    "result['a']['training']"
   ]
  },
  {
   "cell_type": "code",
   "execution_count": 5,
   "metadata": {
    "collapsed": true
   },
   "outputs": [],
   "source": [
    "# This is the number of classes in which we have to classify our images (in this case 29, the letters of the alphabet and\n",
    "# some other signs).\n",
    "class_count = len(result.keys())"
   ]
  },
  {
   "cell_type": "code",
   "execution_count": 6,
   "metadata": {},
   "outputs": [
    {
     "name": "stdout",
     "output_type": "stream",
     "text": [
      "29\n"
     ]
    }
   ],
   "source": [
    "print(class_count)"
   ]
  },
  {
   "cell_type": "code",
   "execution_count": null,
   "metadata": {},
   "outputs": [],
   "source": [
    "\"\"\"\n",
    "Here I take the already splitted data returned by the function 'create_image_lists()' and I put each image path into \n",
    "two different lists, according to the related sign.\n",
    "\"\"\"\n",
    "train_data = []\n",
    "validation_data = []\n",
    "\n",
    "for val in result.keys():\n",
    "    train_data.append(result[val]['training'])\n",
    "    \n",
    "for val in result.keys():\n",
    "    validation_data.append(result[val]['validation'])\n",
    "\n",
    "print(train_data)\n",
    "print(validation_data)"
   ]
  },
  {
   "cell_type": "code",
   "execution_count": 30,
   "metadata": {
    "collapsed": true
   },
   "outputs": [],
   "source": [
    "\"\"\"\n",
    "I wrote this two 'for' cycles to split the data into two folders --> 'train_data' and 'validation_data', which I'll use for the\n",
    "training phase.\n",
    "\"\"\"\n",
    "\n",
    "for i in range(len(train_data)):\n",
    "    for filename in train_data[i]:\n",
    "        path = \"dataset/\" + list(result.keys())[i].upper() + \"/\" + filename \n",
    "        new_path = \"train_data/\" + list(result.keys())[i] + \"/\" + filename\n",
    "        img = cv2.imread(path, 0)\n",
    "        cv2.imwrite(new_path, img)\n",
    "        \n",
    "for i in range(len(validation_data)):\n",
    "    for filename in validation_data[i]:\n",
    "        path = \"dataset/\" + list(result.keys())[i].upper() + \"/\" + filename \n",
    "        new_path = \"validation_data/\" + list(result.keys())[i] + \"/\" + filename\n",
    "        img = cv2.imread(path, 0)\n",
    "        cv2.imwrite(new_path, img)"
   ]
  },
  {
   "cell_type": "code",
   "execution_count": 91,
   "metadata": {
    "collapsed": true
   },
   "outputs": [],
   "source": [
    "\"\"\"\n",
    "This is the core of the project, the CNN architecture.\n",
    "Nothing special, actually. Until now, I haven't tried other combinations.\n",
    "\"\"\"\n",
    "def create_model():\n",
    "    K.set_image_dim_ordering('tf')\n",
    "\n",
    "    model = Sequential()\n",
    "    model.add(Conv2D(32, (3, 3), input_shape=(200, 200, 3)))\n",
    "    model.add(Activation('relu'))\n",
    "    model.add(MaxPooling2D(pool_size=(2, 2)))\n",
    "\n",
    "    model.add(Conv2D(32, (3, 3)))\n",
    "    model.add(Activation('relu'))\n",
    "    model.add(MaxPooling2D(pool_size=(2, 2)))\n",
    "\n",
    "    model.add(Conv2D(64, (3, 3)))\n",
    "    model.add(Activation('relu'))\n",
    "    model.add(MaxPooling2D(pool_size=(2, 2)))\n",
    "\n",
    "    model.add(Flatten())  # this converts our 3D feature maps to 1D feature vectors\n",
    "    model.add(Dense(64))\n",
    "    model.add(Activation('relu'))\n",
    "    model.add(Dropout(0.2))\n",
    "    model.add(Dense(29))\n",
    "    model.add(Activation('softmax'))\n",
    "    \n",
    "    return model"
   ]
  },
  {
   "cell_type": "code",
   "execution_count": 92,
   "metadata": {},
   "outputs": [
    {
     "name": "stdout",
     "output_type": "stream",
     "text": [
      "Found 52252 images belonging to 29 classes.\n",
      "Found 17309 images belonging to 29 classes.\n"
     ]
    }
   ],
   "source": [
    "model = create_model()\n",
    "\n",
    "batch_size = 64\n",
    "\n",
    "# This is the augmentation configuration we will use for training\n",
    "train_datagen = ImageDataGenerator(\n",
    "        rescale=1./255,\n",
    "        shear_range=0.2,\n",
    "        horizontal_flip=True)\n",
    "\n",
    "# This is the augmentation configuration we will use for testing:\n",
    "test_datagen = ImageDataGenerator(rescale=1./255)\n",
    "\n",
    "model.compile(loss='categorical_crossentropy',\n",
    "              optimizer='rmsprop',\n",
    "              metrics=['accuracy'])\n",
    "\n",
    "train_generator = train_datagen.flow_from_directory(\n",
    "        'train_data', \n",
    "        target_size=(200, 200),\n",
    "        batch_size=batch_size,\n",
    "        class_mode='categorical')\n",
    "\n",
    "validation_generator = test_datagen.flow_from_directory(\n",
    "        'validation_data',\n",
    "        target_size=(200, 200),\n",
    "        batch_size=batch_size,\n",
    "        class_mode='categorical')"
   ]
  },
  {
   "cell_type": "code",
   "execution_count": null,
   "metadata": {
    "collapsed": true
   },
   "outputs": [],
   "source": [
    "# Let's start training!\n",
    "model.fit_generator(\n",
    "        train_generator,\n",
    "        steps_per_epoch=2000 // batch_size,\n",
    "        epochs=50,\n",
    "        validation_data=validation_generator,\n",
    "        validation_steps=800 // batch_size)\n",
    "model.save_weights('first_try.h5')  # Always save your weights after training or during training\n",
    "\n",
    "\"\"\"I used 'FloydHub' to train the network, reaching an accuracy of about 80% with 50 epochs.\"\"\""
   ]
  },
  {
   "cell_type": "code",
   "execution_count": 120,
   "metadata": {
    "collapsed": true
   },
   "outputs": [],
   "source": [
    "def load_trained_model(weights_path):\n",
    "    final_model = create_model()\n",
    "    final_model.load_weights(weights_path)\n",
    "    return final_model"
   ]
  },
  {
   "cell_type": "code",
   "execution_count": 121,
   "metadata": {
    "collapsed": true
   },
   "outputs": [],
   "source": [
    "# Once trained, let's use the optimized weights to create a new model and test it out!\n",
    "load_model = load_trained_model(\"first_try.h5\")\n",
    "load_model.compile(loss='categorical_crossentropy',\n",
    "              optimizer='rmsprop',\n",
    "              metrics=['accuracy'])"
   ]
  },
  {
   "cell_type": "code",
   "execution_count": 124,
   "metadata": {},
   "outputs": [
    {
     "name": "stdout",
     "output_type": "stream",
     "text": [
      "F\n",
      "F\n",
      "F\n",
      "F\n",
      "F\n",
      "F\n"
     ]
    }
   ],
   "source": [
    "# Here I simply put some images into the directory 'test_data' and predict the result\n",
    "for i in range(20):\n",
    "    img = cv2.imread('test_data/F' + str(i+1) + '.jpg')\n",
    "    if (img is not None):\n",
    "        img = np.expand_dims(img, axis=0)\n",
    "        result_class = load_model.predict_classes(img)\n",
    "        print(list(result.keys())[result_class[0]].upper())"
   ]
  }
 ],
 "metadata": {
  "kernelspec": {
   "display_name": "Python [default]",
   "language": "python",
   "name": "python3"
  },
  "language_info": {
   "codemirror_mode": {
    "name": "ipython",
    "version": 3
   },
   "file_extension": ".py",
   "mimetype": "text/x-python",
   "name": "python",
   "nbconvert_exporter": "python",
   "pygments_lexer": "ipython3",
   "version": "3.5.3"
  }
 },
 "nbformat": 4,
 "nbformat_minor": 2
}
