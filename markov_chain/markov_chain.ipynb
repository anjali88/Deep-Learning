{
 "cells": [
  {
   "cell_type": "markdown",
   "metadata": {},
   "source": [
    "# Markov Chain\n",
    "\n",
    "A Markov chain is \"a stochastic model describing a sequence of possible events in which the probability of each event depends only on the state attained in the previous event\".<br>\n",
    "(Reference: [Wikipedia](https://en.wikipedia.org/wiki/Markov_chain))\n",
    "\n",
    "<img width=\"300\" height=\"200\" src=\"https://upload.wikimedia.org/wikipedia/commons/thumb/2/2b/Markovkate_01.svg/563px-Markovkate_01.svg.png\">\n",
    "\n",
    "**I recommend this website to understand Markov Chain visualizing some animated examples: [HERE](http://setosa.io/ev/markov-chains/)**"
   ]
  },
  {
   "cell_type": "code",
   "execution_count": 7,
   "metadata": {},
   "outputs": [],
   "source": [
    "import numpy as np\n",
    "\n",
    "transition_matrix = {'A': np.array([['A', 'B', 'C'],\n",
    "                                    [.3, .3, .4]]),\n",
    "                     'B': np.array([['A', 'B', 'C'],\n",
    "                                    [.3, .5, .2]]),\n",
    "                     'C': np.array([['A', 'B', 'C'],\n",
    "                                    [.4, .4, .2]])}"
   ]
  },
  {
   "cell_type": "code",
   "execution_count": 15,
   "metadata": {},
   "outputs": [],
   "source": [
    "class MarkovChain(object):\n",
    "\n",
    "    def __init__(self, transition_matrix):\n",
    "        self.transition_matrix = transition_matrix\n",
    "        self.state = list(self.transition_matrix.keys())[0]\n",
    "\n",
    "    def current_state(self):\n",
    "        print('Current state: %s' % (self.state))\n",
    "\n",
    "    def next_state(self):\n",
    "        transition_probabilities = self.transition_matrix[self.state]\n",
    "        self.state = np.random.choice(a=list(transition_probabilities[0]), p=list(transition_probabilities[1]))\n",
    "        print('%s' % (self.state), end = \" --> \")"
   ]
  },
  {
   "cell_type": "code",
   "execution_count": 18,
   "metadata": {},
   "outputs": [
    {
     "name": "stdout",
     "output_type": "stream",
     "text": [
      "Current state: A\n",
      "B --> B --> B --> A --> C --> A --> A --> C --> C --> B --> B --> B --> A --> C --> C --> B --> A --> C --> B --> B --> "
     ]
    }
   ],
   "source": [
    "markov_chain = MarkovChain(transition_matrix)\n",
    "\n",
    "markov_chain.current_state()\n",
    "\n",
    "for _ in range(20):\n",
    "    markov_chain.next_state(),"
   ]
  }
 ],
 "metadata": {
  "kernelspec": {
   "display_name": "Python 3",
   "language": "python",
   "name": "python3"
  },
  "language_info": {
   "codemirror_mode": {
    "name": "ipython",
    "version": 3
   },
   "file_extension": ".py",
   "mimetype": "text/x-python",
   "name": "python",
   "nbconvert_exporter": "python",
   "pygments_lexer": "ipython3",
   "version": "3.6.5"
  }
 },
 "nbformat": 4,
 "nbformat_minor": 2
}
