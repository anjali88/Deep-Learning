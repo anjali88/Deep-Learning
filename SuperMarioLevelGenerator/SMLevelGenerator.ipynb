{
 "cells": [
  {
   "cell_type": "code",
   "execution_count": 1,
   "metadata": {
    "collapsed": true
   },
   "outputs": [],
   "source": [
    "import numpy as np\n",
    "from PIL import Image"
   ]
  },
  {
   "cell_type": "code",
   "execution_count": 2,
   "metadata": {
    "collapsed": true
   },
   "outputs": [],
   "source": [
    "# This function take the image downloaded and resized manually of Super Mario's map\n",
    "# and create a compatible RGB JPG file to use the crop function below\n",
    "def createCompatibleImage(img_path):\n",
    "    png = Image.open(img_path).convert('RGBA')\n",
    "    background = Image.new('RGBA', png.size, (255,255,255))\n",
    "\n",
    "    alpha_composite = Image.alpha_composite(background, png)\n",
    "    alpha_composite.save('levels/mario-8-1.jpg', 'JPEG', quality=100)"
   ]
  },
  {
   "cell_type": "code",
   "execution_count": 314,
   "metadata": {
    "collapsed": true
   },
   "outputs": [],
   "source": [
    "createCompatibleImage('levels/mario-8-1.png')"
   ]
  },
  {
   "cell_type": "code",
   "execution_count": 445,
   "metadata": {},
   "outputs": [
    {
     "name": "stdout",
     "output_type": "stream",
     "text": [
      "2743\n"
     ]
    },
    {
     "data": {
      "image/png": "[encoded data removed]",
      "text/plain": [
       "<PIL.Image.Image image mode=RGB size=16x16 at 0x168BFCADF28>"
      ]
     },
     "execution_count": 445,
     "metadata": {},
     "output_type": "execute_result"
    }
   ],
   "source": [
    "# Now we have the image in the right format\n",
    "img = np.array(Image.open('levels/mario-1-1.jpg'))\n",
    "\n",
    "imgHeight = img.shape[0]\n",
    "imgWidth = img.shape[1]\n",
    "\n",
    "# Every tile is 16x16 pixels \n",
    "windowsize_r = 16\n",
    "windowsize_c = 16\n",
    "\n",
    "tiles = []\n",
    "\n",
    "# Crop out the window\n",
    "for r in range(0, imgHeight, windowsize_r):\n",
    "    for c in range(0, imgWidth, windowsize_c):\n",
    "        window = img[r: r + windowsize_r, c: c + windowsize_c]\n",
    "        tile = Image.fromarray(window, 'RGB')\n",
    "        tiles.append(tile)\n",
    "        #img.save('my.png')\n",
    "        #tile.show()\n",
    "\n",
    "\n",
    "print(len(tiles))\n",
    "tiles[2740]\n",
    "\n",
    "'''I used this part of code to save locally the different tile s blocks'''\n",
    "#coinBlock = tiles[862]\n",
    "#blankSpace = tiles[0]\n",
    "#breakableBrick = tiles[2512]\n",
    "#solidBrick = tiles[2456]\n",
    "#bushBlock = tiles[2456]\n",
    "#floorBlock = tiles[2740]\n",
    "\n",
    "#coinBlock.save('blocks/coinBlock.png')\n",
    "#blankSpace.save('blocks/blankSpace.png')\n",
    "#breakableBrick.save('blocks/breakableBrick.png')\n",
    "#solidBrick.save('blocks/solidBrick.png')\n",
    "#bushBlock.save('blocks/bushBlock.png')\n",
    "#floorBlock.save('blocks/floorBlock.png')"
   ]
  },
  {
   "cell_type": "code",
   "execution_count": 316,
   "metadata": {
    "collapsed": true
   },
   "outputs": [],
   "source": [
    "# This function takes the cropped tiles and translate them into the relative symbols (of our choice)\n",
    "def image2text(tiles):\n",
    "    \n",
    "    counter = 0\n",
    "    f = open(\"txtlevels/mario-8-1.txt\", \"w+\")\n",
    "    \n",
    "    for tile in tiles:\n",
    "        \n",
    "        # If end of level, new line\n",
    "        if (counter == (imgWidth)/windowsize_c):\n",
    "            counter = 0\n",
    "            f.write(\"\\r\\n\")\n",
    "          \n",
    "        # Check what type of tile\n",
    "        if (np.sum(np.array(tile)) == np.sum(np.array(blankSpace))):\n",
    "            f.write(\"-\")\n",
    "        elif(np.sum(np.array(tile)) == np.sum(np.array(coinBlock))):\n",
    "            f.write(\"?\")\n",
    "        elif(np.sum(np.array(tile)) == np.sum(np.array(breakableBrick))):\n",
    "            f.write(\"#\")\n",
    "        elif(np.sum(np.array(tile)) == np.sum(np.array(solidBrick))):\n",
    "            f.write(\"=\")\n",
    "        elif(np.sum(np.array(tile)) == np.sum(np.array(floorBlock))):\n",
    "            f.write(\"f\")\n",
    "        else:\n",
    "            f.write(\"-\")\n",
    "        \n",
    "        counter += 1\n",
    "    \n",
    "    f.close()"
   ]
  },
  {
   "cell_type": "code",
   "execution_count": 317,
   "metadata": {
    "collapsed": true
   },
   "outputs": [],
   "source": [
    "image2text(tiles)"
   ]
  },
  {
   "cell_type": "code",
   "execution_count": 481,
   "metadata": {
    "collapsed": true
   },
   "outputs": [],
   "source": [
    "# Rotate file by 90 degrees, so that the RNN can work better because of a more significative pattern\n",
    "\n",
    "f = open(\"txtlevels/mario-8-1.txt\", 'r')\n",
    "\n",
    "rows = np.array([line for line in f if line.split() != []])\n",
    "\n",
    "f.close()\n",
    "\n",
    "f = open(\"mario-8-1-columns.txt\", \"w+\")\n",
    "\n",
    "index = 0\n",
    "while(index < (imgWidth)//windowsize_c):\n",
    "    for i in range(0, len(rows)):\n",
    "        f.write(rows[i][index])\n",
    "    f.write(\"\\r\\n\")\n",
    "    index += 1\n",
    "f.close() "
   ]
  },
  {
   "cell_type": "code",
   "execution_count": 42,
   "metadata": {
    "collapsed": true
   },
   "outputs": [],
   "source": [
    "# Put togheter all the txt level files\n",
    "import fileinput\n",
    "import glob\n",
    "\n",
    "file_list = glob.glob(\"*.txt\")\n",
    "\n",
    "with open('data.txt', 'w') as file:\n",
    "    input_lines = fileinput.input(file_list)\n",
    "    file.writelines(input_lines)"
   ]
  },
  {
   "cell_type": "code",
   "execution_count": 14,
   "metadata": {},
   "outputs": [
    {
     "name": "stdout",
     "output_type": "stream",
     "text": [
      "-------f\n",
      "\n",
      "-----------f\n",
      "\n",
      "------------f\n",
      "\n",
      "------------f\n",
      "\n",
      "------------f\n",
      "\n",
      "------------f\n",
      "\n",
      "------------f\n",
      "\n",
      "-\n",
      "-------f\n",
      "\n",
      "-----------f\n",
      "\n",
      "------------f\n",
      "\n",
      "------------f\n",
      "\n",
      "------------f\n",
      "\n",
      "------------f\n",
      "\n",
      "------------f\n",
      "\n",
      "-\n",
      "---------------------f\n",
      "\n",
      "------------f\n",
      "\n",
      "------------f\n",
      "\n",
      "------------f\n",
      "\n",
      "------------f\n",
      "\n",
      "------------f\n",
      "\n",
      "-\n",
      "------f\n",
      "\n",
      "-----------f\n",
      "\n",
      "------------f\n",
      "\n",
      "------------f\n",
      "\n",
      "------------f\n",
      "\n",
      "------------f\n",
      "\n",
      "------------f\n",
      "\n",
      "--\n",
      "---------------------f\n",
      "\n",
      "------------f\n",
      "\n",
      "------------f\n",
      "\n",
      "------------f\n",
      "\n",
      "------------f\n",
      "\n",
      "------------f\n",
      "\n",
      "-\n",
      "---------------------f\n",
      "\n",
      "------------f\n",
      "\n",
      "------------f\n",
      "\n",
      "------------f\n",
      "\n",
      "------------f\n",
      "\n",
      "------------f\n",
      "\n",
      "-\n",
      "-------f\n",
      "\n",
      "-----------f\n",
      "\n",
      "------------f\n",
      "\n",
      "------------f\n",
      "\n",
      "------------f\n",
      "\n",
      "------------f\n",
      "\n",
      "------------f\n",
      "\n",
      "-\n",
      "-------f\n",
      "\n",
      "-----------f\n",
      "\n",
      "------------f\n",
      "\n",
      "------------f\n",
      "\n",
      "------------f\n",
      "\n",
      "------------f\n",
      "\n",
      "------------f\n",
      "\n",
      "-\n",
      "------f\n",
      "\n",
      "-----------f\n",
      "\n",
      "------------f\n",
      "\n",
      "------------f\n",
      "\n",
      "------------f\n",
      "\n",
      "------------f\n",
      "\n",
      "------------f\n",
      "\n",
      "--\n",
      "-------f\n",
      "\n",
      "-----------f\n",
      "\n",
      "------------f\n",
      "\n",
      "------------f\n",
      "\n",
      "------------f\n",
      "\n",
      "------------f\n",
      "\n",
      "------------f\n",
      "\n",
      "-\n"
     ]
    }
   ],
   "source": [
    "import tensorflow as tf\n",
    "from tensorlm import CharLM\n",
    "import random\n",
    "\n",
    "tf.reset_default_graph()\n",
    "\n",
    "with tf.Session() as session:\n",
    "    \n",
    "    # Create a new model. You can also use WordLM\n",
    "    model = CharLM(session, \"data.txt\", max_vocab_size=13,\n",
    "                   neurons_per_layer=256, num_layers=3, num_timesteps=15)\n",
    "    \n",
    "    # Train it \n",
    "    model.train(session, max_epochs=10, max_steps=1000)\n",
    "    \n",
    "    # Let it generate a text\n",
    "    for i in range(10):\n",
    "        seed = random.choice(open('data.txt').readlines())\n",
    "        generated = model.sample(session, seed, num_steps=100)\n",
    "        print(generated)"
   ]
  }
 ],
 "metadata": {
  "kernelspec": {
   "display_name": "Python [default]",
   "language": "python",
   "name": "python3"
  },
  "language_info": {
   "codemirror_mode": {
    "name": "ipython",
    "version": 3
   },
   "file_extension": ".py",
   "mimetype": "text/x-python",
   "name": "python",
   "nbconvert_exporter": "python",
   "pygments_lexer": "ipython3",
   "version": "3.5.3"
  }
 },
 "nbformat": 4,
 "nbformat_minor": 2
}
