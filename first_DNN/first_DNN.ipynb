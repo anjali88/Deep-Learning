{
 "cells": [
  {
   "cell_type": "markdown",
   "metadata": {},
   "source": [
    "<h3><i>Credit to: https://github.com/ageron/handson-ml</i></h3>"
   ]
  },
  {
   "cell_type": "code",
   "execution_count": 1,
   "metadata": {},
   "outputs": [
    {
     "name": "stderr",
     "output_type": "stream",
     "text": [
      "C:\\Miniconda3\\lib\\site-packages\\h5py\\__init__.py:34: FutureWarning: Conversion of the second argument of issubdtype from `float` to `np.floating` is deprecated. In future, it will be treated as `np.float64 == np.dtype(float).type`.\n",
      "  from ._conv import register_converters as _register_converters\n"
     ]
    }
   ],
   "source": [
    "import tensorflow as tf\n",
    "from tensorflow.examples.tutorials.mnist import input_data"
   ]
  },
  {
   "cell_type": "code",
   "execution_count": 4,
   "metadata": {
    "collapsed": true
   },
   "outputs": [],
   "source": [
    "n_inputs = 28*28\n",
    "n_hidden1 = 300\n",
    "n_hidden2 = 100\n",
    "n_outputs = 10"
   ]
  },
  {
   "cell_type": "code",
   "execution_count": 5,
   "metadata": {
    "collapsed": true
   },
   "outputs": [],
   "source": [
    "# Let's define the placeholders for the inputs and the targets\n",
    "X = tf.placeholder(tf.float32, shape=(None, n_inputs), name=\"X\")\n",
    "y = tf.placeholder(tf.int64, shape=(None), name=\"y\")"
   ]
  },
  {
   "cell_type": "code",
   "execution_count": 6,
   "metadata": {
    "collapsed": true
   },
   "outputs": [],
   "source": [
    "# Let's create the DNN\n",
    "with tf.name_scope(\"dnn\"):\n",
    "    hidden1 = tf.layers.dense(X, n_hidden1, name=\"hidden1\", activation=tf.nn.relu)\n",
    "    hidden2 = tf.layers.dense(hidden1, n_hidden2, name=\"hidden2\", activation=tf.nn.relu)\n",
    "    logits = tf.layers.dense(hidden2, n_outputs, name=\"outputs\")"
   ]
  },
  {
   "cell_type": "code",
   "execution_count": 7,
   "metadata": {
    "collapsed": true
   },
   "outputs": [],
   "source": [
    "# Now define the cost function, cross entropy in this case\n",
    "with tf.name_scope(\"loss\"):\n",
    "    xentropy = tf.nn.sparse_softmax_cross_entropy_with_logits(labels=y, logits=logits)\n",
    "    loss = tf.reduce_mean(xentropy, name=\"loss\")"
   ]
  },
  {
   "cell_type": "code",
   "execution_count": 8,
   "metadata": {
    "collapsed": true
   },
   "outputs": [],
   "source": [
    "# Now we need a Gradient Descent Optimizer to minimize the cost function\n",
    "learning_rate = 0.01\n",
    "\n",
    "with tf.name_scope(\"train\"):\n",
    "    optimizer = tf.train.GradientDescentOptimizer(learning_rate)\n",
    "    training_op = optimizer.minimize(loss)"
   ]
  },
  {
   "cell_type": "code",
   "execution_count": 9,
   "metadata": {
    "collapsed": true
   },
   "outputs": [],
   "source": [
    "# Evaluate our model with accuracy\n",
    "with tf.name_scope(\"eval\"):\n",
    "    correct = tf.nn.in_top_k(logits, y , 1)\n",
    "    accuracy = tf.reduce_mean(tf.cast(correct, tf.float32))"
   ]
  },
  {
   "cell_type": "code",
   "execution_count": 10,
   "metadata": {
    "collapsed": true
   },
   "outputs": [],
   "source": [
    "init = tf.global_variables_initializer()\n",
    "saver = tf.train.Saver()"
   ]
  },
  {
   "cell_type": "code",
   "execution_count": 12,
   "metadata": {},
   "outputs": [
    {
     "name": "stdout",
     "output_type": "stream",
     "text": [
      "Extracting /tmp/data/train-images-idx3-ubyte.gz\n",
      "Extracting /tmp/data/train-labels-idx1-ubyte.gz\n",
      "Extracting /tmp/data/t10k-images-idx3-ubyte.gz\n",
      "Extracting /tmp/data/t10k-labels-idx1-ubyte.gz\n",
      "0 Train accuracy: 0.94 Test accuracy: 0.9039\n",
      "1 Train accuracy: 0.96 Test accuracy: 0.9223\n",
      "2 Train accuracy: 0.9 Test accuracy: 0.9303\n",
      "3 Train accuracy: 0.94 Test accuracy: 0.9384\n",
      "4 Train accuracy: 0.96 Test accuracy: 0.9422\n",
      "5 Train accuracy: 0.92 Test accuracy: 0.9476\n",
      "6 Train accuracy: 1.0 Test accuracy: 0.9512\n",
      "7 Train accuracy: 0.96 Test accuracy: 0.9528\n",
      "8 Train accuracy: 1.0 Test accuracy: 0.9559\n",
      "9 Train accuracy: 0.92 Test accuracy: 0.9568\n",
      "10 Train accuracy: 0.96 Test accuracy: 0.9612\n",
      "11 Train accuracy: 1.0 Test accuracy: 0.9628\n",
      "12 Train accuracy: 1.0 Test accuracy: 0.9648\n",
      "13 Train accuracy: 1.0 Test accuracy: 0.966\n",
      "14 Train accuracy: 1.0 Test accuracy: 0.9668\n",
      "15 Train accuracy: 0.96 Test accuracy: 0.9674\n",
      "16 Train accuracy: 0.94 Test accuracy: 0.9693\n",
      "17 Train accuracy: 0.98 Test accuracy: 0.9696\n",
      "18 Train accuracy: 1.0 Test accuracy: 0.9698\n",
      "19 Train accuracy: 0.94 Test accuracy: 0.9702\n",
      "20 Train accuracy: 1.0 Test accuracy: 0.9707\n",
      "21 Train accuracy: 1.0 Test accuracy: 0.9726\n",
      "22 Train accuracy: 0.98 Test accuracy: 0.9732\n",
      "23 Train accuracy: 0.96 Test accuracy: 0.9742\n",
      "24 Train accuracy: 1.0 Test accuracy: 0.9731\n",
      "25 Train accuracy: 0.98 Test accuracy: 0.9743\n",
      "26 Train accuracy: 1.0 Test accuracy: 0.9752\n",
      "27 Train accuracy: 0.98 Test accuracy: 0.9762\n",
      "28 Train accuracy: 1.0 Test accuracy: 0.9761\n",
      "29 Train accuracy: 1.0 Test accuracy: 0.9767\n",
      "30 Train accuracy: 1.0 Test accuracy: 0.9774\n",
      "31 Train accuracy: 1.0 Test accuracy: 0.9767\n",
      "32 Train accuracy: 1.0 Test accuracy: 0.9772\n",
      "33 Train accuracy: 1.0 Test accuracy: 0.9777\n",
      "34 Train accuracy: 1.0 Test accuracy: 0.9776\n",
      "35 Train accuracy: 1.0 Test accuracy: 0.9779\n",
      "36 Train accuracy: 0.98 Test accuracy: 0.9786\n",
      "37 Train accuracy: 1.0 Test accuracy: 0.9781\n",
      "38 Train accuracy: 0.94 Test accuracy: 0.9781\n",
      "39 Train accuracy: 0.98 Test accuracy: 0.978\n"
     ]
    }
   ],
   "source": [
    "# Execution!\n",
    "mnist = input_data.read_data_sets(\"/tmp/data/\")\n",
    "\n",
    "n_epochs = 40\n",
    "batch_size = 50\n",
    "\n",
    "with tf.Session() as sess:\n",
    "    init.run()\n",
    "    for epoch in range(n_epochs):\n",
    "        for iteration in range(mnist.train.num_examples // batch_size):\n",
    "            X_batch, y_batch = mnist.train.next_batch(batch_size)\n",
    "            sess.run(training_op, feed_dict={X: X_batch, y: y_batch})\n",
    "        acc_train = accuracy.eval(feed_dict={X: X_batch, y: y_batch})\n",
    "        acc_test = accuracy.eval(feed_dict={X: mnist.test.images, y: mnist.test.labels})\n",
    "        \n",
    "        print(epoch, \"Train accuracy:\", acc_train, \"Test accuracy:\", acc_test)\n",
    "    \n",
    "    save_path = saver.save(sess, \"./my_model_final.ckpt\")"
   ]
  }
 ],
 "metadata": {
  "kernelspec": {
   "display_name": "Python [default]",
   "language": "python",
   "name": "python3"
  },
  "language_info": {
   "codemirror_mode": {
    "name": "ipython",
    "version": 3
   },
   "file_extension": ".py",
   "mimetype": "text/x-python",
   "name": "python",
   "nbconvert_exporter": "python",
   "pygments_lexer": "ipython3",
   "version": "3.5.3"
  }
 },
 "nbformat": 4,
 "nbformat_minor": 2
}
