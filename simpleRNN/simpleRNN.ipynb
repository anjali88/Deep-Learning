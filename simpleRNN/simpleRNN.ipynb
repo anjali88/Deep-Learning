{
 "cells": [
  {
   "cell_type": "code",
   "execution_count": 1,
   "metadata": {
    "collapsed": true
   },
   "outputs": [],
   "source": [
    "import numpy as np"
   ]
  },
  {
   "cell_type": "code",
   "execution_count": 2,
   "metadata": {},
   "outputs": [],
   "source": [
    "'''Here some input data'''\n",
    "np.random.seed(42)\n",
    "\n",
    "x = np.array([\n",
    "    [1,0,0],\n",
    "    [1,1,0],\n",
    "    [1,1,1]\n",
    "])\n",
    "\n",
    "y = np.array([\n",
    "    [1],\n",
    "    [2],\n",
    "    [3]\n",
    "])\n",
    "\n",
    "Wx = [0.2]\n",
    "Wrec = [1.5]"
   ]
  },
  {
   "cell_type": "code",
   "execution_count": 3,
   "metadata": {
    "collapsed": true
   },
   "outputs": [],
   "source": [
    "'''Parameters'''\n",
    "epochs = 30000\n",
    "number_of_training_data = 3\n",
    "learning_rate_x = 0.02\n",
    "learning_rate_rec = 0.0006\n",
    "\n",
    "states = np.zeros((3, 4))\n",
    "grad_over_time = np.zeros((3, 4))"
   ]
  },
  {
   "cell_type": "markdown",
   "metadata": {},
   "source": [
    "<img src=\"rnn.jpg\"></img>"
   ]
  },
  {
   "cell_type": "code",
   "execution_count": 4,
   "metadata": {},
   "outputs": [
    {
     "name": "stdout",
     "output_type": "stream",
     "text": [
      "Current epoch:  0  currect prediction:  [ 0.45  0.75  0.95]\n",
      "Current epoch:  1000  currect prediction:  [ 1.24937979  2.14122399  2.77784872]\n",
      "Current epoch:  2000  currect prediction:  [ 1.20042229  2.11969506  2.82366601]\n",
      "Current epoch:  3000  currect prediction:  [ 1.15290926  2.09586925  2.86711256]\n",
      "Current epoch:  4000  currect prediction:  [ 1.11042022  2.07215036  2.90510067]\n",
      "Current epoch:  5000  currect prediction:  [ 1.07569428  2.05108986  2.93553869]\n",
      "Current epoch:  6000  currect prediction:  [ 1.04965627  2.03431564  2.95800286]\n",
      "Current epoch:  7000  currect prediction:  [ 1.03149962  2.02212185  2.97348661]\n",
      "Current epoch:  8000  currect prediction:  [ 1.01951566  2.01385019  2.98362553]\n",
      "Current epoch:  9000  currect prediction:  [ 1.01190331  2.00850373  2.99003268]\n",
      "Current epoch:  10000  currect prediction:  [ 1.00718835  2.00515631  2.99398827]\n",
      "Current epoch:  11000  currect prediction:  [ 1.00431431  2.00310238  2.99639461]\n",
      "Current epoch:  12000  currect prediction:  [ 1.00257964  2.00185776  2.99784523]\n",
      "Current epoch:  13000  currect prediction:  [ 1.00153894  2.00110928  2.99871488]\n",
      "Current epoch:  14000  currect prediction:  [ 1.00091684  2.00066121  2.9992345 ]\n",
      "Current epoch:  15000  currect prediction:  [ 1.00054577  2.00039373  2.99954436]\n",
      "Current epoch:  16000  currect prediction:  [ 1.00032472  2.00023431  2.99972892]\n",
      "Current epoch:  17000  currect prediction:  [ 1.00019315  2.00013938  2.99983876]\n",
      "Current epoch:  18000  currect prediction:  [ 1.00011487  2.0000829   2.99990411]\n",
      "Current epoch:  19000  currect prediction:  [ 1.00006831  2.0000493   2.99994298]\n",
      "Current epoch:  20000  currect prediction:  [ 1.00004062  2.00002931  2.9999661 ]\n",
      "Current epoch:  21000  currect prediction:  [ 1.00002415  2.00001743  2.99997984]\n",
      "Current epoch:  22000  currect prediction:  [ 1.00001436  2.00001036  2.99998801]\n",
      "Current epoch:  23000  currect prediction:  [ 1.00000854  2.00000616  2.99999287]\n",
      "Current epoch:  24000  currect prediction:  [ 1.00000508  2.00000366  2.99999576]\n",
      "Current epoch:  25000  currect prediction:  [ 1.00000302  2.00000218  2.99999748]\n",
      "Current epoch:  26000  currect prediction:  [ 1.00000179  2.0000013   2.9999985 ]\n",
      "Current epoch:  27000  currect prediction:  [ 1.00000107  2.00000077  2.99999911]\n",
      "Current epoch:  28000  currect prediction:  [ 1.00000063  2.00000046  2.99999947]\n",
      "Current epoch:  29000  currect prediction:  [ 1.00000038  2.00000027  2.99999969]\n"
     ]
    }
   ],
   "source": [
    "'''Training the network'''\n",
    "for epoch in range(epochs):\n",
    "\n",
    "    # Feed Forward\n",
    "    layer_1 = x[:,0] * Wx + states[:,0] * Wrec\n",
    "    states[:,1] = layer_1\n",
    "\n",
    "    layer_2 = x[:,1] * Wx + states[:,1] * Wrec\n",
    "    states[:,2] = layer_2\n",
    "\n",
    "    layer_3 = x[:,2] * Wx + states[:,2] * Wrec\n",
    "    states[:,3] = layer_3\n",
    "\n",
    "    cost = np.square(states[:,3] - y).sum() / number_of_training_data\n",
    "\n",
    "    # Backpropagation through time\n",
    "    grad_out = (states[:,3] - np.squeeze(y)) * 2 / number_of_training_data\n",
    "    grad_over_time[:,3] = grad_out\n",
    "    grad_over_time[:,2] = grad_over_time[:,3] * Wrec\n",
    "    grad_over_time[:,1] = grad_over_time[:,2] * Wrec\n",
    "\n",
    "    grad_wx = np.sum(grad_over_time[:,3] * x[:,2] +\n",
    "                     grad_over_time[:,2] * x[:,1] + \n",
    "                     grad_over_time[:,1] * x[:,0])\n",
    "\n",
    "    grad_rec = np.sum(grad_over_time[:,3] * states[:,2] +\n",
    "                      grad_over_time[:,2] * states[:,1] + \n",
    "                      grad_over_time[:,1] * states[:,0])\n",
    "\n",
    "    Wx = Wx - learning_rate_x * grad_wx\n",
    "    Wrec = Wrec - learning_rate_rec * grad_rec\n",
    "\n",
    "    if (epoch % 1000 == 0): print(\"Current epoch: \", epoch, \" currect prediction: \", layer_3)"
   ]
  },
  {
   "cell_type": "code",
   "execution_count": 5,
   "metadata": {},
   "outputs": [
    {
     "name": "stdout",
     "output_type": "stream",
     "text": [
      "[ 1.  2.  3.]\n"
     ]
    }
   ],
   "source": [
    "'''Output'''\n",
    "layer_1 = x[:,0] * Wx + states[:,0] * Wrec\n",
    "states[:,1] = layer_1\n",
    "\n",
    "layer_2 = x[:,1] * Wx + states[:,1] * Wrec\n",
    "states[:,2] = layer_2\n",
    "\n",
    "layer_3 = x[:,2] * Wx + states[:,2] * Wrec\n",
    "states[:,3] = layer_3\n",
    "\n",
    "print(np.round(layer_3))"
   ]
  }
 ],
 "metadata": {
  "kernelspec": {
   "display_name": "Python [default]",
   "language": "python",
   "name": "python3"
  },
  "language_info": {
   "codemirror_mode": {
    "name": "ipython",
    "version": 3
   },
   "file_extension": ".py",
   "mimetype": "text/x-python",
   "name": "python",
   "nbconvert_exporter": "python",
   "pygments_lexer": "ipython3",
   "version": "3.5.3"
  }
 },
 "nbformat": 4,
 "nbformat_minor": 2
}
